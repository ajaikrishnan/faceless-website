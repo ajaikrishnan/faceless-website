{
  "nbformat": 4,
  "nbformat_minor": 0,
  "metadata": {
    "colab": {
      "provenance": []
    },
    "kernelspec": {
      "name": "python3",
      "display_name": "Python 3"
    },
    "language_info": {
      "name": "python"
    }
  },
  "cells": [
    {
      "cell_type": "code",
      "execution_count": null,
      "metadata": {
        "id": "q0fKiI02hTYG"
      },
      "outputs": [],
      "source": [
        "#AJAIKRISHNAN SS   EMAIL_ID == ajaykrishnan0086@gmail.com  COLLEGE == NARAYANAGURU COLLEGE OF ENGINEERING\n",
        "\n",
        "import numpy as np\n",
        "import pandas as pd\n",
        "import matplotlib.pyplot as plt\n",
        "import seaborn as sns\n",
        "\n",
        "\n",
        "data = pd.read_csv('House_Price_India.csv')\n",
        "\n",
        "\n",
        "print(data.head())\n",
        "print(data.describe())\n",
        "\n"
      ]
    },
    {
      "cell_type": "code",
      "source": [
        "#univariate analysis\n",
        "\n",
        "plt.hist(data['id'], bins=10)\n",
        "plt.title('Distribution of ID')\n",
        "plt.xlabel('Date')\n",
        "plt.ylabel('Built Year')\n",
        "plt.show()"
      ],
      "metadata": {
        "id": "4vcGd11ujYvQ"
      },
      "execution_count": null,
      "outputs": []
    },
    {
      "cell_type": "code",
      "source": [
        "#single variable using Seaborn\n",
        "\n",
        "sns.boxplot(data['id'])\n",
        "plt.title('Box plot of id')\n",
        "plt.show()\n"
      ],
      "metadata": {
        "id": "tvPX3cUXiL4Y"
      },
      "execution_count": null,
      "outputs": []
    },
    {
      "cell_type": "code",
      "source": [
        "#bi-variate analysis\n",
        "\n",
        "plt.scatter(data['id'], data['Date'])\n",
        "plt.title('Scatter plot of id  and Date')\n",
        "plt.xlabel('id')\n",
        "plt.ylabel('Date')\n",
        "plt.show()"
      ],
      "metadata": {
        "id": "cCy7_NUDiPFg"
      },
      "execution_count": null,
      "outputs": []
    },
    {
      "cell_type": "code",
      "source": [
        "\n",
        "sns.heatmap(data.corr(), annot=True)\n",
        "plt.show()\n"
      ],
      "metadata": {
        "id": "MBpwmysZixmY"
      },
      "execution_count": null,
      "outputs": []
    },
    {
      "cell_type": "code",
      "source": [
        "#Heatmap of correlation\n",
        "\n",
        "corr_matrix = data.corr()\n",
        "sns.heatmap(corr_matrix, cmap='coolwarm', annot=True)\n",
        "plt.title('Correlation matrix heatmap')\n",
        "plt.show()"
      ],
      "metadata": {
        "id": "rbjfttNPk2xS"
      },
      "execution_count": null,
      "outputs": []
    },
    {
      "cell_type": "code",
      "source": [
        "\n",
        "#multi-variate analysis\n",
        "\n",
        "sns.pairplot(data)\n",
        "plt.show()"
      ],
      "metadata": {
        "id": "s0ojGhfCoMfn"
      },
      "execution_count": null,
      "outputs": []
    },
    {
      "cell_type": "code",
      "source": [
        "# Perform descriptive statistics\n",
        "\n",
        "# Summary  of the dataset\n",
        "print(data.describe())"
      ],
      "metadata": {
        "id": "pMugY9Beqdtq"
      },
      "execution_count": null,
      "outputs": []
    },
    {
      "cell_type": "code",
      "source": [
        "# Handle missing values\n",
        "# Check for missing values\n",
        "\n",
        "\n",
        "print(data.isnull().sum())"
      ],
      "metadata": {
        "id": "2iRet9wdqqcP"
      },
      "execution_count": null,
      "outputs": []
    },
    {
      "cell_type": "code",
      "source": [
        "# Filling the  missing values with the mean of the column\n",
        "\n",
        "\n",
        "data.fillna(data.mean(), inplace=True)"
      ],
      "metadata": {
        "id": "EYpDZCvSrACm"
      },
      "execution_count": null,
      "outputs": []
    }
  ]
}